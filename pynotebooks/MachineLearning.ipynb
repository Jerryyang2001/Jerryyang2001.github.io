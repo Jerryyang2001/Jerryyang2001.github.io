{
 "cells": [
  {
   "cell_type": "markdown",
   "metadata": {},
   "source": [
    "# Machine Learning\n",
    "\n",
    "- Grew out of work in AI\n",
    "- New Capability for Machine\n",
    "\n",
    "Examples\n",
    "\n",
    "1. Data Mining\n",
    "2. Applications can't program by hand."
   ]
  },
  {
   "cell_type": "markdown",
   "metadata": {},
   "source": [
    "## Definition\n",
    "\n",
    "1. Task (T)\n",
    "2. Performance Measure (P)\n",
    "3. Experience (E)"
   ]
  },
  {
   "cell_type": "markdown",
   "metadata": {},
   "source": [
    "## 监督学习 Supervised Learning\n",
    "\n",
    "1. 已经给出了“正确答案”\n",
    "2. 回归（Regression）：结果是连续值\n",
    "3. 分类（Classification）：结果是离散值"
   ]
  },
  {
   "cell_type": "markdown",
   "metadata": {},
   "source": [
    "### 无监督学习 Unsupervised learning\n",
    "\n",
    "1. 没有正确答案\n",
    "2. \n"
   ]
  }
 ],
 "metadata": {
  "kernelspec": {
   "display_name": "Python 3",
   "language": "python",
   "name": "python3"
  },
  "language_info": {
   "codemirror_mode": {
    "name": "ipython",
    "version": 3
   },
   "file_extension": ".py",
   "mimetype": "text/x-python",
   "name": "python",
   "nbconvert_exporter": "python",
   "pygments_lexer": "ipython3",
   "version": "3.8.5"
  }
 },
 "nbformat": 4,
 "nbformat_minor": 4
}
